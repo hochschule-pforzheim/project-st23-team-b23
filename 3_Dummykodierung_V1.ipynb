{
  "nbformat": 4,
  "nbformat_minor": 0,
  "metadata": {
    "colab": {
      "provenance": [],
      "toc_visible": true,
      "authorship_tag": "ABX9TyMFdJexwhSEmepOz2q+V6s/",
      "include_colab_link": true
    },
    "kernelspec": {
      "name": "python3",
      "display_name": "Python 3"
    },
    "language_info": {
      "name": "python"
    }
  },
  "cells": [
    {
      "cell_type": "markdown",
      "metadata": {
        "id": "view-in-github",
        "colab_type": "text"
      },
      "source": [
        "<a href=\"https://colab.research.google.com/github/hochschule-pforzheim/project-st23-team-b23/blob/main/Dummykodierung.ipynb\" target=\"_parent\"><img src=\"https://colab.research.google.com/assets/colab-badge.svg\" alt=\"Open In Colab\"/></a>"
      ]
    },
    {
      "cell_type": "markdown",
      "source": [
        "In diesem Notebook möchten wir unseren Datensatz für das tranieren der Modelle vorbereiten. Dazu müssen zum Beispiel einige Variablen Dummy kodieren."
      ],
      "metadata": {
        "id": "J6_4yCpXadWE"
      }
    },
    {
      "cell_type": "code",
      "execution_count": null,
      "metadata": {
        "id": "AvciTaLu2eYq"
      },
      "outputs": [],
      "source": [
        "import pandas as pd\n",
        "\n",
        "df = pd.read_csv('/content/DF_Join_final_bereinigt.csv')\n"
      ]
    },
    {
      "cell_type": "code",
      "source": [
        "#Zunächst entfernen wir noch die Spalte imdb_id, die wir nicht ins Modell einfließen lassen\n",
        "\n",
        "df = df.drop(['imdb_id'], 1)"
      ],
      "metadata": {
        "colab": {
          "base_uri": "https://localhost:8080/"
        },
        "id": "8x5-XWuKbGTR",
        "outputId": "618445d6-fd73-4062-f8e5-2b093da04bfc"
      },
      "execution_count": null,
      "outputs": [
        {
          "output_type": "stream",
          "name": "stderr",
          "text": [
            "<ipython-input-2-b7e5dc2987c8>:3: FutureWarning: In a future version of pandas all arguments of DataFrame.drop except for the argument 'labels' will be keyword-only.\n",
            "  df = df.drop(['imdb_id'], 1)\n"
          ]
        }
      ]
    },
    {
      "cell_type": "markdown",
      "source": [
        "#Dummy kodieren Genres und Production Countries\n",
        "\n",
        "Leonie"
      ],
      "metadata": {
        "id": "6bGWllvpgLDx"
      }
    },
    {
      "cell_type": "code",
      "source": [
        "#In der Spalte Genres wollen wir jeweils nur den ersten Eintrag behalten\n",
        "\n",
        "df['genres'] = df['genres'].str.split(',').str[0]"
      ],
      "metadata": {
        "id": "lMDvfB-JcB0d"
      },
      "execution_count": null,
      "outputs": []
    },
    {
      "cell_type": "code",
      "source": [
        "#Für eine schönere Darstellung entfernen wir noch die Sonderzeichen\n",
        "\n",
        "import re\n",
        "\n",
        "def clean_Sonderzeichen(values):\n",
        "    cleaned_values = []\n",
        "    for x in values:\n",
        "        cleaned_value = re.sub(r'[^a-zA-Z]', '', x)\n",
        "        if cleaned_value:\n",
        "            cleaned_values.append(cleaned_value)\n",
        "    return ''.join(cleaned_values)\n",
        "\n",
        "# Wir wenden die Funktion für die Spalte genres und production_countries an\n",
        "\n",
        "df['genres'] = df['genres'].apply(lambda x: clean_Sonderzeichen(x))\n",
        "\n",
        "df['production_countries'] = df['production_countries'].apply(lambda x: clean_Sonderzeichen(x))\n"
      ],
      "metadata": {
        "id": "JfGTK9zddopS"
      },
      "execution_count": null,
      "outputs": []
    },
    {
      "cell_type": "markdown",
      "source": [
        "###Zunächst Dummy kodieren wir die Spalte genres"
      ],
      "metadata": {
        "id": "WvX7E_Zdib2E"
      }
    },
    {
      "cell_type": "code",
      "source": [
        "#Wir haben mehr als zwei Ausprägungen, daher nutzen wir One Hot Encoding\n",
        "\n",
        "df.genres.value_counts()"
      ],
      "metadata": {
        "colab": {
          "base_uri": "https://localhost:8080/"
        },
        "id": "A8QkbMlzgIen",
        "outputId": "12220231-f5d3-41b2-ff33-24b264d918f9"
      },
      "execution_count": null,
      "outputs": [
        {
          "output_type": "execute_result",
          "data": {
            "text/plain": [
              "drama            15551\n",
              "comedy           10574\n",
              "action            4252\n",
              "thriller          4190\n",
              "documentation     3044\n",
              "romance           2944\n",
              "crime             2404\n",
              "scifi             2390\n",
              "animation         1685\n",
              "horror            1274\n",
              "fantasy           1238\n",
              "family             812\n",
              "war                607\n",
              "music              537\n",
              "reality            318\n",
              "history            215\n",
              "western            208\n",
              "sport               75\n",
              "                     2\n",
              "Name: genres, dtype: int64"
            ]
          },
          "metadata": {},
          "execution_count": 5
        }
      ]
    },
    {
      "cell_type": "code",
      "source": [
        "#Wir haben zwei Spalten, die keinem Genre zugeordnet sind, daher füllen wir diese manuell auf\n",
        "\n",
        "df[df['genres'] == '']"
      ],
      "metadata": {
        "colab": {
          "base_uri": "https://localhost:8080/",
          "height": 311
        },
        "id": "EPLjnlYQkfwR",
        "outputId": "a5dcb64b-6a70-4064-f6ac-1a523108369d"
      },
      "execution_count": null,
      "outputs": [
        {
          "output_type": "execute_result",
          "data": {
            "text/plain": [
              "                  name       character   role  \\\n",
              "13853  David Letterman     Self - Host  ACTOR   \n",
              "22977    Carol Burnett  Herself - Host  ACTOR   \n",
              "\n",
              "                                                   title  \\\n",
              "13853  My Next Guest Needs No Introduction With David...   \n",
              "22977                   A Little Help with Carol Burnett   \n",
              "\n",
              "                                             description  runtime genres  \\\n",
              "13853  TV legend David Letterman teams up with fascin...     50.0          \n",
              "22977  In this unscripted series starring comedy lege...     24.0          \n",
              "\n",
              "      production_countries  imdb_score  imdb_votes  tmdb_score  \n",
              "13853                   US         7.8      5581.0         7.6  \n",
              "22977                   US         6.3       237.0         6.2  "
            ],
            "text/html": [
              "\n",
              "  <div id=\"df-4ccb5a4c-bfde-4cca-b549-c2ae09b44ada\">\n",
              "    <div class=\"colab-df-container\">\n",
              "      <div>\n",
              "<style scoped>\n",
              "    .dataframe tbody tr th:only-of-type {\n",
              "        vertical-align: middle;\n",
              "    }\n",
              "\n",
              "    .dataframe tbody tr th {\n",
              "        vertical-align: top;\n",
              "    }\n",
              "\n",
              "    .dataframe thead th {\n",
              "        text-align: right;\n",
              "    }\n",
              "</style>\n",
              "<table border=\"1\" class=\"dataframe\">\n",
              "  <thead>\n",
              "    <tr style=\"text-align: right;\">\n",
              "      <th></th>\n",
              "      <th>name</th>\n",
              "      <th>character</th>\n",
              "      <th>role</th>\n",
              "      <th>title</th>\n",
              "      <th>description</th>\n",
              "      <th>runtime</th>\n",
              "      <th>genres</th>\n",
              "      <th>production_countries</th>\n",
              "      <th>imdb_score</th>\n",
              "      <th>imdb_votes</th>\n",
              "      <th>tmdb_score</th>\n",
              "    </tr>\n",
              "  </thead>\n",
              "  <tbody>\n",
              "    <tr>\n",
              "      <th>13853</th>\n",
              "      <td>David Letterman</td>\n",
              "      <td>Self - Host</td>\n",
              "      <td>ACTOR</td>\n",
              "      <td>My Next Guest Needs No Introduction With David...</td>\n",
              "      <td>TV legend David Letterman teams up with fascin...</td>\n",
              "      <td>50.0</td>\n",
              "      <td></td>\n",
              "      <td>US</td>\n",
              "      <td>7.8</td>\n",
              "      <td>5581.0</td>\n",
              "      <td>7.6</td>\n",
              "    </tr>\n",
              "    <tr>\n",
              "      <th>22977</th>\n",
              "      <td>Carol Burnett</td>\n",
              "      <td>Herself - Host</td>\n",
              "      <td>ACTOR</td>\n",
              "      <td>A Little Help with Carol Burnett</td>\n",
              "      <td>In this unscripted series starring comedy lege...</td>\n",
              "      <td>24.0</td>\n",
              "      <td></td>\n",
              "      <td>US</td>\n",
              "      <td>6.3</td>\n",
              "      <td>237.0</td>\n",
              "      <td>6.2</td>\n",
              "    </tr>\n",
              "  </tbody>\n",
              "</table>\n",
              "</div>\n",
              "      <button class=\"colab-df-convert\" onclick=\"convertToInteractive('df-4ccb5a4c-bfde-4cca-b549-c2ae09b44ada')\"\n",
              "              title=\"Convert this dataframe to an interactive table.\"\n",
              "              style=\"display:none;\">\n",
              "        \n",
              "  <svg xmlns=\"http://www.w3.org/2000/svg\" height=\"24px\"viewBox=\"0 0 24 24\"\n",
              "       width=\"24px\">\n",
              "    <path d=\"M0 0h24v24H0V0z\" fill=\"none\"/>\n",
              "    <path d=\"M18.56 5.44l.94 2.06.94-2.06 2.06-.94-2.06-.94-.94-2.06-.94 2.06-2.06.94zm-11 1L8.5 8.5l.94-2.06 2.06-.94-2.06-.94L8.5 2.5l-.94 2.06-2.06.94zm10 10l.94 2.06.94-2.06 2.06-.94-2.06-.94-.94-2.06-.94 2.06-2.06.94z\"/><path d=\"M17.41 7.96l-1.37-1.37c-.4-.4-.92-.59-1.43-.59-.52 0-1.04.2-1.43.59L10.3 9.45l-7.72 7.72c-.78.78-.78 2.05 0 2.83L4 21.41c.39.39.9.59 1.41.59.51 0 1.02-.2 1.41-.59l7.78-7.78 2.81-2.81c.8-.78.8-2.07 0-2.86zM5.41 20L4 18.59l7.72-7.72 1.47 1.35L5.41 20z\"/>\n",
              "  </svg>\n",
              "      </button>\n",
              "      \n",
              "  <style>\n",
              "    .colab-df-container {\n",
              "      display:flex;\n",
              "      flex-wrap:wrap;\n",
              "      gap: 12px;\n",
              "    }\n",
              "\n",
              "    .colab-df-convert {\n",
              "      background-color: #E8F0FE;\n",
              "      border: none;\n",
              "      border-radius: 50%;\n",
              "      cursor: pointer;\n",
              "      display: none;\n",
              "      fill: #1967D2;\n",
              "      height: 32px;\n",
              "      padding: 0 0 0 0;\n",
              "      width: 32px;\n",
              "    }\n",
              "\n",
              "    .colab-df-convert:hover {\n",
              "      background-color: #E2EBFA;\n",
              "      box-shadow: 0px 1px 2px rgba(60, 64, 67, 0.3), 0px 1px 3px 1px rgba(60, 64, 67, 0.15);\n",
              "      fill: #174EA6;\n",
              "    }\n",
              "\n",
              "    [theme=dark] .colab-df-convert {\n",
              "      background-color: #3B4455;\n",
              "      fill: #D2E3FC;\n",
              "    }\n",
              "\n",
              "    [theme=dark] .colab-df-convert:hover {\n",
              "      background-color: #434B5C;\n",
              "      box-shadow: 0px 1px 3px 1px rgba(0, 0, 0, 0.15);\n",
              "      filter: drop-shadow(0px 1px 2px rgba(0, 0, 0, 0.3));\n",
              "      fill: #FFFFFF;\n",
              "    }\n",
              "  </style>\n",
              "\n",
              "      <script>\n",
              "        const buttonEl =\n",
              "          document.querySelector('#df-4ccb5a4c-bfde-4cca-b549-c2ae09b44ada button.colab-df-convert');\n",
              "        buttonEl.style.display =\n",
              "          google.colab.kernel.accessAllowed ? 'block' : 'none';\n",
              "\n",
              "        async function convertToInteractive(key) {\n",
              "          const element = document.querySelector('#df-4ccb5a4c-bfde-4cca-b549-c2ae09b44ada');\n",
              "          const dataTable =\n",
              "            await google.colab.kernel.invokeFunction('convertToInteractive',\n",
              "                                                     [key], {});\n",
              "          if (!dataTable) return;\n",
              "\n",
              "          const docLinkHtml = 'Like what you see? Visit the ' +\n",
              "            '<a target=\"_blank\" href=https://colab.research.google.com/notebooks/data_table.ipynb>data table notebook</a>'\n",
              "            + ' to learn more about interactive tables.';\n",
              "          element.innerHTML = '';\n",
              "          dataTable['output_type'] = 'display_data';\n",
              "          await google.colab.output.renderOutput(dataTable, element);\n",
              "          const docLink = document.createElement('div');\n",
              "          docLink.innerHTML = docLinkHtml;\n",
              "          element.appendChild(docLink);\n",
              "        }\n",
              "      </script>\n",
              "    </div>\n",
              "  </div>\n",
              "  "
            ]
          },
          "metadata": {},
          "execution_count": 6
        }
      ]
    },
    {
      "cell_type": "code",
      "source": [
        "\"\"\"Die beiden Filme werden als TV Show eingeordnet, da wir diese Ausprägung aber bisher nicht haben setzen wir beide\n",
        "Filme auf die nächst passenede Ausprägung documentation\"\"\"\n",
        "\n",
        "#Wir setzen das Genre für den ersten Film auf documentation\n",
        "\n",
        "rows = df[df['name'] == 'David Letterman']\n",
        "\n",
        "for index, row in rows.iterrows():\n",
        "    if row['genres'] == '':\n",
        "        df.loc[index, 'genres'] = 'documentation'\n",
        "\n",
        "#Das Genre für den zweiten Film setzen wir auch auf documentation\n",
        "\n",
        "rows_2 = df[df['name'] == 'Carol Burnett']\n",
        "\n",
        "for index, row in rows_2.iterrows():\n",
        "    if row['genres'] == '':\n",
        "        df.loc[index, 'genres'] = 'documentation'"
      ],
      "metadata": {
        "id": "iIAgMKLGnYg3"
      },
      "execution_count": null,
      "outputs": []
    },
    {
      "cell_type": "code",
      "source": [
        "#Unser Code war erfolgreich, die 2 Ausprägungen ohne Genre sind weg und bei documentation sind 2 Werte mehr\n",
        "df.genres.value_counts()"
      ],
      "metadata": {
        "colab": {
          "base_uri": "https://localhost:8080/"
        },
        "id": "VbNfQdYNoJD9",
        "outputId": "ad6e54d8-cdcc-4277-ec47-56d4a2a9930f"
      },
      "execution_count": null,
      "outputs": [
        {
          "output_type": "execute_result",
          "data": {
            "text/plain": [
              "drama            15551\n",
              "comedy           10574\n",
              "action            4252\n",
              "thriller          4190\n",
              "documentation     3046\n",
              "romance           2944\n",
              "crime             2404\n",
              "scifi             2390\n",
              "animation         1685\n",
              "horror            1274\n",
              "fantasy           1238\n",
              "family             812\n",
              "war                607\n",
              "music              537\n",
              "reality            318\n",
              "history            215\n",
              "western            208\n",
              "sport               75\n",
              "Name: genres, dtype: int64"
            ]
          },
          "metadata": {},
          "execution_count": 8
        }
      ]
    },
    {
      "cell_type": "code",
      "source": [
        "#Wir wenden nun One Hot Encoding an, löschen die genres Spalte und hängen die neuen an unseren Datensatz an\n",
        "\n",
        "df = df.drop(columns='genres').join(pd.get_dummies(df.genres, drop_first = True))"
      ],
      "metadata": {
        "id": "Yg5XXrd0jIZ6"
      },
      "execution_count": null,
      "outputs": []
    },
    {
      "cell_type": "markdown",
      "source": [
        "###Dummy kodieren Production Countries"
      ],
      "metadata": {
        "id": "rPR_BIbwppGS"
      }
    },
    {
      "cell_type": "code",
      "source": [
        "#Wir wiederholen die Schritte für Production Countries\n",
        "\n",
        "df.production_countries.value_counts()"
      ],
      "metadata": {
        "colab": {
          "base_uri": "https://localhost:8080/"
        },
        "id": "vSkKC_GfpaFo",
        "outputId": "ae421d9e-e205-4f79-cf0b-a44684baa71e"
      },
      "execution_count": null,
      "outputs": [
        {
          "output_type": "execute_result",
          "data": {
            "text/plain": [
              "US        17780\n",
              "IN         4993\n",
              "JP         2705\n",
              "KR         2466\n",
              "ES         1617\n",
              "          ...  \n",
              "USIL          1\n",
              "EGUS          1\n",
              "USCLMX        1\n",
              "BEUS          1\n",
              "ATUS          1\n",
              "Name: production_countries, Length: 334, dtype: int64"
            ]
          },
          "metadata": {},
          "execution_count": 10
        }
      ]
    },
    {
      "cell_type": "code",
      "source": [
        "#Wir haben sehr viele Kategorien, die nur einmal vorkommen um unser Modell nicht unnötig kompliziert zu machen fassen wir diese zusammen\n",
        "#Damit es überschaubar bleibt setzen wir den Schwellenwert auf 100\n",
        "#Die Länder kommen schließlich auch häufig vor, da die Filme mehrfach im Datensatz vorkommen, da jeder Schauspieler zu den Filmen genannt ist\n",
        "\n",
        "threshold = 100\n",
        "\n",
        "count = df.production_countries.value_counts()\n",
        "\n",
        "infrequent_categories = count[count < threshold].index\n",
        "\n",
        "df.loc[df['production_countries'].isin(infrequent_categories), 'production_countries'] = 'Other'"
      ],
      "metadata": {
        "id": "UQSbWcm0qu5-"
      },
      "execution_count": null,
      "outputs": []
    },
    {
      "cell_type": "code",
      "source": [
        "df.production_countries.value_counts()"
      ],
      "metadata": {
        "colab": {
          "base_uri": "https://localhost:8080/"
        },
        "id": "GLdjBjiOrogZ",
        "outputId": "635bcecf-9acf-4be7-b9f2-fc8baa091629"
      },
      "execution_count": null,
      "outputs": [
        {
          "output_type": "execute_result",
          "data": {
            "text/plain": [
              "US        17780\n",
              "Other      5890\n",
              "IN         4993\n",
              "JP         2705\n",
              "KR         2466\n",
              "ES         1617\n",
              "GB         1561\n",
              "FR         1068\n",
              "PH          998\n",
              "ID          935\n",
              "TR          931\n",
              "CA          870\n",
              "GBUS        722\n",
              "BR          700\n",
              "DE          697\n",
              "IT          625\n",
              "USGB        614\n",
              "MX          575\n",
              "CN          498\n",
              "PL          480\n",
              "CAUS        477\n",
              "TW          446\n",
              "AU          422\n",
              "HK          361\n",
              "TH          356\n",
              "AR          309\n",
              "            290\n",
              "CO          235\n",
              "NL          221\n",
              "NG          204\n",
              "ZA          198\n",
              "USCA        198\n",
              "SE          190\n",
              "DK          173\n",
              "EG          157\n",
              "CAGBUS      148\n",
              "BEFR        147\n",
              "USAU        136\n",
              "CL          131\n",
              "CNHK        124\n",
              "DEUS        117\n",
              "XX          114\n",
              "NO          113\n",
              "MY          113\n",
              "FRBE        113\n",
              "KRUS        102\n",
              "Name: production_countries, dtype: int64"
            ]
          },
          "metadata": {},
          "execution_count": 12
        }
      ]
    },
    {
      "cell_type": "code",
      "source": [
        "#Wir haben noch 290 Werte die keinem Land zugeordnet sind, diese setzten wir ebenfalls auf Other\n",
        "\n",
        "df['production_countries'] = df['production_countries'].replace('', 'Other')"
      ],
      "metadata": {
        "id": "kVwoHXHEs2yt"
      },
      "execution_count": null,
      "outputs": []
    },
    {
      "cell_type": "code",
      "source": [
        "df.production_countries.value_counts()"
      ],
      "metadata": {
        "colab": {
          "base_uri": "https://localhost:8080/"
        },
        "id": "Kwab1Rw4tC4o",
        "outputId": "5137966e-d6f8-48d2-d50b-b514c454cd31"
      },
      "execution_count": null,
      "outputs": [
        {
          "output_type": "execute_result",
          "data": {
            "text/plain": [
              "US        17780\n",
              "Other      6180\n",
              "IN         4993\n",
              "JP         2705\n",
              "KR         2466\n",
              "ES         1617\n",
              "GB         1561\n",
              "FR         1068\n",
              "PH          998\n",
              "ID          935\n",
              "TR          931\n",
              "CA          870\n",
              "GBUS        722\n",
              "BR          700\n",
              "DE          697\n",
              "IT          625\n",
              "USGB        614\n",
              "MX          575\n",
              "CN          498\n",
              "PL          480\n",
              "CAUS        477\n",
              "TW          446\n",
              "AU          422\n",
              "HK          361\n",
              "TH          356\n",
              "AR          309\n",
              "CO          235\n",
              "NL          221\n",
              "NG          204\n",
              "ZA          198\n",
              "USCA        198\n",
              "SE          190\n",
              "DK          173\n",
              "EG          157\n",
              "CAGBUS      148\n",
              "BEFR        147\n",
              "USAU        136\n",
              "CL          131\n",
              "CNHK        124\n",
              "DEUS        117\n",
              "XX          114\n",
              "NO          113\n",
              "MY          113\n",
              "FRBE        113\n",
              "KRUS        102\n",
              "Name: production_countries, dtype: int64"
            ]
          },
          "metadata": {},
          "execution_count": 14
        }
      ]
    },
    {
      "cell_type": "code",
      "source": [
        "#Wir wenden nun One Hot Encoding an, löschen die production countries Spalte und hängen die neuen an unseren Datensatz an\n",
        "\n",
        "df = df.drop(columns='production_countries').join(pd.get_dummies(df.production_countries, drop_first = True))"
      ],
      "metadata": {
        "id": "KtHkn_2JtIJp"
      },
      "execution_count": null,
      "outputs": []
    },
    {
      "cell_type": "markdown",
      "source": [
        "Weitere Dummy Kodierung: Madeleine:"
      ],
      "metadata": {
        "id": "MGgWv3-wuhh8"
      }
    },
    {
      "cell_type": "markdown",
      "source": [
        "#Zielvariable berechnen\n",
        "Leonie"
      ],
      "metadata": {
        "id": "ATDljqx_a6Nn"
      }
    },
    {
      "cell_type": "code",
      "source": [
        "'''Unsere Zielvariable für die Regression ist der imdb und tmdb Score, diese möchten wir in einem gewichteten Mittelwert\n",
        "(75% imdb score 25% tmdb score) kodieren'''\n",
        "\n",
        "weight_imdb = 0.75\n",
        "weight_tmdb = 0.25\n",
        "\n",
        "df['target_variable'] = ((df['imdb_score'] * weight_imdb) + (df['tmdb_score'] * weight_tmdb))"
      ],
      "metadata": {
        "id": "hBHCuWQP7DyH"
      },
      "execution_count": null,
      "outputs": []
    },
    {
      "cell_type": "markdown",
      "source": [
        "#Speichern der Daten"
      ],
      "metadata": {
        "id": "XSl9jO4bt5m-"
      }
    },
    {
      "cell_type": "code",
      "source": [
        "df.to_csv(\"Daten_kodiert.csv\", index=False)"
      ],
      "metadata": {
        "id": "GYKgg2G_t5Br"
      },
      "execution_count": null,
      "outputs": []
    }
  ]
}
