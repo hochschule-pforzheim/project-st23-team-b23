{
  "nbformat": 4,
  "nbformat_minor": 0,
  "metadata": {
    "colab": {
      "provenance": []
    },
    "kernelspec": {
      "name": "python3",
      "display_name": "Python 3"
    },
    "language_info": {
      "name": "python"
    }
  },
  "cells": [
    {
      "cell_type": "markdown",
      "source": [
        "**Vorgehen:**\n",
        "\n",
        "- wir haben oftmals lediglich unsere Entstände in Github hochgeladen und nicht regelmäßig committet\n",
        "- bei manchen Notebooks haben wir mit verschiedenen Versionen gearbeitet\n",
        "- bei anderen wiederum haben wir immer das selbe Notebook überarbeitet und können somit den Bearbeitungsverlauf in Form von verschiedenen Versionen nicht mehr hochladen\n",
        "- wir wussten nicht, dass wir jeden Bearbeitungsstand hochladen müssen, damit für Sie jede Veränderung in Github sichtbar ist\n",
        "- somit ist die Häufigkeit, wer wie viel committet nicht mehr wirklich aussagekräftig\n",
        "\n",
        "\n",
        "- Arbeitspakete bzw. Notebooks:\n",
        "\n",
        "  - 1. Data Consolidation and Data Cleansing **-> Johanna**\n",
        "\n",
        "  - 2.1 Verschiedene Joins **-> Madeleine**\n",
        "\n",
        "  - 2.2 Join Bereinigung Outer Join**-> Leonie**\n",
        "\n",
        "  - 2.3 Join credits & titles **-> Madeleine**\n",
        "\n",
        "  - 3. Dummycodierung -> **Leonie & Madeleine**\n",
        "\n",
        "  - 4. Visualisierung **-> Lena**\n",
        "\n",
        "  - 5.1 Gradient Boosting **-> Leonie**\n",
        "\n",
        "  - 5.2 Lineare Regression **-> Lena**\n",
        "\n",
        "  - 5.3 Decision Tree **-> Johanna**\n",
        "\n",
        "  - 5.4 SVM **-> Madeleine**\n",
        "\n",
        "  - 6. Fazit **-> Alle**"
      ],
      "metadata": {
        "id": "3eECSUvNPpMe"
      }
    },
    {
      "cell_type": "markdown",
      "source": [
        "**Ergebnisse:**\n",
        "- Lineare Regression:\n",
        "  - Ordinary Least Squares:  \n",
        "    -> R^2= -5,39 (vor Hyperparameter Tuning)\n",
        "\n",
        "    -> R^2= 20,89% (nach Hyperparameter Tuning besseres Ergebnis)\n",
        "\n",
        "  - Ridge Regression:\n",
        "    \n",
        "    -> R^2= 26,23%  (nach Hyperparameter Tuning keine Verbesserung erzielt)\n",
        "\n",
        "- Decision Tree:\n",
        "\n",
        "  -> R^2 = -5,55% (vor Hyperparamter Tuning)\n",
        "\n",
        "  -> R^2 = 22,86% (nach Hyperparamter Tuning)\n",
        "\n",
        "  - runtime wichtigstes feature\n",
        "\n",
        "- Gradient Boosting:\n",
        "\n",
        "  -> R^2 = 38,18% (vor Hyperparameter Tuning)\n",
        "\n",
        "  -> R^2 = 39,25% (nach Hyperparameter Tuning, aber Overfitting)\n",
        "\n",
        "  - wichtigste features: runtime, imdb-votes & documentation\n",
        "                     \n",
        "- SVM-Modell:\n",
        "\n",
        "  -> R^2 = 26,20% (nach Hyperparameter Tuning)\n",
        "\n",
        "  -> R^2 = 26,43% (nach Hyperparameter Tuning)"
      ],
      "metadata": {
        "id": "eOQwPKzfJapZ"
      }
    },
    {
      "cell_type": "markdown",
      "source": [
        "**Fazit:**\n",
        "\n",
        "Das Gradient Boosting Modell hat den höchsten R^2-Wert erzielt (vor Hyperparameter Tuning ohne Overfitting) mit den wichtigsten Feature runtime, imdb-votes und documentation.\n",
        "Insgesamt haben aber alle 5 Modelle nicht besonders gut abgeschnitten."
      ],
      "metadata": {
        "id": "q0nUDGfiNlES"
      }
    },
    {
      "cell_type": "markdown",
      "source": [
        "**Empfehlung:**\n",
        "- man könnte den Datensatz anreichern, indem weitere Filme und deren imdb-scores & tmdb-scores untersucht werden\n",
        "- man könnte die Relevanz einzelner Feature statistisch untersuchen\n",
        "- man könnte überlegen, ob man die Analysen länderspezifisch durchführt. Da auf Grund unterschiedlicher Länder unterschiedliche Präferenzen bei der Filmauswahl eine Rolle spielen und diese derzeit durch ein gesamtheitliches Modell nicht abgebildet werden"
      ],
      "metadata": {
        "id": "0MocOzmWOJZd"
      }
    }
  ]
}